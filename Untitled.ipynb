{
 "cells": [
  {
   "cell_type": "markdown",
   "id": "f3f32a03-9187-44fc-9a7d-d9ad56814abd",
   "metadata": {},
   "source": [
    "# Busqueda en amplitud\n"
   ]
  },
  {
   "cell_type": "markdown",
   "id": "46d2cc36-42fd-4640-8101-25d3dbd8ef62",
   "metadata": {},
   "source": [
    "\n",
    "El proceso de busqueda que se acaba de presentar es un procedimiento genérico, que puede dar lugar a variaciones. La primera que se va a presentar se llama Búsqueda en Amplitud ó Breadth First Search (BFS). Esta búsqueda recorre el árbol por niveles. Es decir:\n",
    "\n",
    "•\tPrimero se visita el nodo raíz.\n",
    "•\tSeguidamente se visitan todos sus hijos.\n",
    "•\tPara cada hijo en el paso anterior, se visitan todos sus hijos, y asi sucesivame.\n"
   ]
  },
  {
   "cell_type": "markdown",
   "id": "c8a37286-4cf8-481b-89ef-11d10a804526",
   "metadata": {},
   "source": [
    "En este recorrido se implementa en la práctica usando una cola FIFO (First Int First Out) para a lista de nodos frontera. Una cola FIFO es una estructura de datos en la que se puede hacer dos operaciones principales: Almacenar un Datto y Usar un Dato. La oportunidad de las colas FIFO es cuando se saca un dato, este se extrae en el mismo orden en el que se ha almacenado. A continuación, se muestra el algoritmo de búsqueda en amplitud en Pseudocódigo.\n"
   ]
  },
  {
   "cell_type": "markdown",
   "id": "d9b30cc8-4626-4bc7-8023-938bc365c806",
   "metadata": {},
   "source": [
    "\n",
    "\n",
    "Se continua con la práctica del aloritmo haciendo un programa para resolver el problema del Puzzle Lineal. Es una sencilla implementación de la estructura e datos del árbol de la que se hablará más adelante.\n"
   ]
  },
  {
   "cell_type": "code",
   "execution_count": null,
   "id": "96da44b6-e37e-466a-9f67-9b3119d8435a",
   "metadata": {},
   "outputs": [],
   "source": []
  }
 ],
 "metadata": {
  "kernelspec": {
   "display_name": "Python 3 (ipykernel)",
   "language": "python",
   "name": "python3"
  },
  "language_info": {
   "codemirror_mode": {
    "name": "ipython",
    "version": 3
   },
   "file_extension": ".py",
   "mimetype": "text/x-python",
   "name": "python",
   "nbconvert_exporter": "python",
   "pygments_lexer": "ipython3",
   "version": "3.12.4"
  }
 },
 "nbformat": 4,
 "nbformat_minor": 5
}
